{
 "cells": [
  {
   "cell_type": "code",
   "execution_count": 1,
   "metadata": {},
   "outputs": [],
   "source": [
    "import pandas as pd\n",
    "import seaborn as sns\n",
    "import numpy as np\n",
    "from sqlalchemy import create_engine\n",
    "import matplotlib.pyplot as plt\n",
    "import statsmodels\n",
    "from statsmodels.tsa.stattools import adfuller\n",
    "from statsmodels.graphics.tsaplots import plot_acf, plot_pacf\n",
    "from statsmodels.tsa.arima_model import ARIMA\n",
    "from xgboost import XGBRegressor\n",
    "from datetime import datetime, timedelta"
   ]
  },
  {
   "cell_type": "code",
   "execution_count": 2,
   "metadata": {},
   "outputs": [],
   "source": [
    "uri = f'postgres://localhost/food_company'\n",
    "engine = create_engine(uri, echo=False)"
   ]
  },
  {
   "cell_type": "code",
   "execution_count": 3,
   "metadata": {},
   "outputs": [],
   "source": [
    "query = \"\"\"\n",
    "        SELECT  train.week, train.num_orders, \n",
    "            meal_info.cuisine, fullfilment_info.city_code\n",
    "        FROM train \n",
    "        JOIN meal_info\n",
    "            ON train.meal_id = meal_info.meal_id\n",
    "        JOIN fullfilment_info \n",
    "            ON train.center_id = fullfilment_info.center_id\n",
    "        WHERE train.center_id=43 AND train.meal_id=2290;\n",
    "        \"\"\""
   ]
  },
  {
   "cell_type": "code",
   "execution_count": 4,
   "metadata": {},
   "outputs": [],
   "source": [
    "data = pd.read_sql(query, engine)\n",
    "data = data.sort_values(\"week\", ascending=True)"
   ]
  },
  {
   "cell_type": "markdown",
   "metadata": {},
   "source": [
    "# Include Timestemp"
   ]
  },
  {
   "cell_type": "code",
   "execution_count": 5,
   "metadata": {},
   "outputs": [],
   "source": [
    "period = len(data)\n",
    "\n",
    "data['Date'] = pd.date_range('2018-07-23', periods=period, freq='W')\n",
    "\n",
    "data['Day'] = data['Date'].dt.day\n",
    "data['Month'] = data['Date'].dt.month\n",
    "data['Year'] = data['Date'].dt.year\n",
    "data['Quarter'] = data['Date'].dt.quarter\n",
    "\n",
    "data = data.set_index(['Date'])"
   ]
  },
  {
   "cell_type": "code",
   "execution_count": 6,
   "metadata": {},
   "outputs": [
    {
     "data": {
      "text/html": [
       "<div>\n",
       "<style scoped>\n",
       "    .dataframe tbody tr th:only-of-type {\n",
       "        vertical-align: middle;\n",
       "    }\n",
       "\n",
       "    .dataframe tbody tr th {\n",
       "        vertical-align: top;\n",
       "    }\n",
       "\n",
       "    .dataframe thead th {\n",
       "        text-align: right;\n",
       "    }\n",
       "</style>\n",
       "<table border=\"1\" class=\"dataframe\">\n",
       "  <thead>\n",
       "    <tr style=\"text-align: right;\">\n",
       "      <th></th>\n",
       "      <th>week</th>\n",
       "      <th>num_orders</th>\n",
       "      <th>cuisine</th>\n",
       "      <th>city_code</th>\n",
       "      <th>Day</th>\n",
       "      <th>Month</th>\n",
       "      <th>Year</th>\n",
       "      <th>Quarter</th>\n",
       "    </tr>\n",
       "    <tr>\n",
       "      <th>Date</th>\n",
       "      <th></th>\n",
       "      <th></th>\n",
       "      <th></th>\n",
       "      <th></th>\n",
       "      <th></th>\n",
       "      <th></th>\n",
       "      <th></th>\n",
       "      <th></th>\n",
       "    </tr>\n",
       "  </thead>\n",
       "  <tbody>\n",
       "    <tr>\n",
       "      <th>2018-07-29</th>\n",
       "      <td>1</td>\n",
       "      <td>944</td>\n",
       "      <td>Indian</td>\n",
       "      <td>590</td>\n",
       "      <td>29</td>\n",
       "      <td>7</td>\n",
       "      <td>2018</td>\n",
       "      <td>3</td>\n",
       "    </tr>\n",
       "    <tr>\n",
       "      <th>2018-08-05</th>\n",
       "      <td>2</td>\n",
       "      <td>1052</td>\n",
       "      <td>Indian</td>\n",
       "      <td>590</td>\n",
       "      <td>5</td>\n",
       "      <td>8</td>\n",
       "      <td>2018</td>\n",
       "      <td>3</td>\n",
       "    </tr>\n",
       "    <tr>\n",
       "      <th>2018-08-12</th>\n",
       "      <td>3</td>\n",
       "      <td>1081</td>\n",
       "      <td>Indian</td>\n",
       "      <td>590</td>\n",
       "      <td>12</td>\n",
       "      <td>8</td>\n",
       "      <td>2018</td>\n",
       "      <td>3</td>\n",
       "    </tr>\n",
       "    <tr>\n",
       "      <th>2018-08-19</th>\n",
       "      <td>4</td>\n",
       "      <td>1243</td>\n",
       "      <td>Indian</td>\n",
       "      <td>590</td>\n",
       "      <td>19</td>\n",
       "      <td>8</td>\n",
       "      <td>2018</td>\n",
       "      <td>3</td>\n",
       "    </tr>\n",
       "    <tr>\n",
       "      <th>2018-08-26</th>\n",
       "      <td>5</td>\n",
       "      <td>24299</td>\n",
       "      <td>Indian</td>\n",
       "      <td>590</td>\n",
       "      <td>26</td>\n",
       "      <td>8</td>\n",
       "      <td>2018</td>\n",
       "      <td>3</td>\n",
       "    </tr>\n",
       "  </tbody>\n",
       "</table>\n",
       "</div>"
      ],
      "text/plain": [
       "            week  num_orders cuisine  city_code  Day  Month  Year  Quarter\n",
       "Date                                                                      \n",
       "2018-07-29     1         944  Indian        590   29      7  2018        3\n",
       "2018-08-05     2        1052  Indian        590    5      8  2018        3\n",
       "2018-08-12     3        1081  Indian        590   12      8  2018        3\n",
       "2018-08-19     4        1243  Indian        590   19      8  2018        3\n",
       "2018-08-26     5       24299  Indian        590   26      8  2018        3"
      ]
     },
     "execution_count": 6,
     "metadata": {},
     "output_type": "execute_result"
    }
   ],
   "source": [
    "data.head()"
   ]
  },
  {
   "cell_type": "markdown",
   "metadata": {},
   "source": [
    "# Total orders per week"
   ]
  },
  {
   "cell_type": "code",
   "execution_count": 7,
   "metadata": {},
   "outputs": [
    {
     "data": {
      "image/png": "[encoded data removed]",
      "text/plain": [
       "<Figure size 1008x288 with 1 Axes>"
      ]
     },
     "metadata": {
      "needs_background": "light"
     },
     "output_type": "display_data"
    }
   ],
   "source": [
    "plt.figure(figsize=(14, 4))\n",
    "total_order = sns.lineplot( data=data, \n",
    "                    x=\"week\", \n",
    "                    y=\"num_orders\")\n",
    "total_order.set_title(label=\"Total orders per week\", loc='center', fontdict={'fontsize':25})\n",
    "plt.xlabel(\"Week\", size=15)\n",
    "plt.ylabel(\"Orders \", size=15)\n",
    "sns.despine()"
   ]
  },
  {
   "cell_type": "markdown",
   "metadata": {},
   "source": [
    "# Train test split"
   ]
  },
  {
   "cell_type": "code",
   "execution_count": 8,
   "metadata": {},
   "outputs": [],
   "source": [
    "data = data.drop(axis=1, columns=\"cuisine\")"
   ]
  },
  {
   "cell_type": "code",
   "execution_count": 9,
   "metadata": {},
   "outputs": [],
   "source": [
    "x_train = data.drop(columns='num_orders')\n",
    "y_train = data['num_orders']\n",
    "y_train = np.log1p(y_train)\n",
    "split_size = period-20\n",
    "X_train = x_train.iloc[:split_size,:]\n",
    "X_test = x_train.iloc[split_size:,:]\n",
    "Y_train =  y_train.iloc[:split_size]\n",
    "Y_test = y_train.iloc[split_size:]"
   ]
  },
  {
   "cell_type": "code",
   "execution_count": 10,
   "metadata": {},
   "outputs": [
    {
     "data": {
      "image/png": "[encoded data removed]",
      "text/plain": [
       "<Figure size 1440x360 with 1 Axes>"
      ]
     },
     "metadata": {
      "needs_background": "light"
     },
     "output_type": "display_data"
    }
   ],
   "source": [
    "plt.figure(figsize=(20,5))\n",
    "plt.title('Orders per week \\n (meal_id:2290, center_id:43) ',fontdict={'fontsize':20})\n",
    "plt.plot(Y_train, label='training_data')\n",
    "plt.plot(Y_test, label='Validation_test')\n",
    "plt.legend(loc='best')\n",
    "sns.despine()\n",
    "plt.savefig('../figs/train_test.pdf')"
   ]
  },
  {
   "cell_type": "markdown",
   "metadata": {},
   "source": [
    "# ARIMA"
   ]
  },
  {
   "cell_type": "code",
   "execution_count": 11,
   "metadata": {},
   "outputs": [
    {
     "data": {
      "text/plain": [
       "Date\n",
       "2018-07-29     6.851185\n",
       "2018-08-05     6.959399\n",
       "2018-08-12     6.986566\n",
       "2018-08-19     7.126087\n",
       "2018-08-26    10.098232\n",
       "                ...    \n",
       "2020-11-15     7.373374\n",
       "2020-11-22     7.566311\n",
       "2020-11-29     7.422971\n",
       "2020-12-06     7.137278\n",
       "2020-12-13     7.070724\n",
       "Name: num_orders, Length: 125, dtype: float64"
      ]
     },
     "execution_count": 11,
     "metadata": {},
     "output_type": "execute_result"
    }
   ],
   "source": [
    "Y_train"
   ]
  },
  {
   "cell_type": "code",
   "execution_count": 12,
   "metadata": {},
   "outputs": [],
   "source": [
    "Y_train_dif_1 = Y_train.diff().fillna(Y_train)\n",
    "Y_train_dif_2 = Y_train_dif_1.diff().fillna(Y_train_dif_1)\n",
    "Y_train_dif_3 = Y_train_dif_2.diff().fillna(Y_train_dif_2)"
   ]
  },
  {
   "cell_type": "code",
   "execution_count": 13,
   "metadata": {},
   "outputs": [
    {
     "name": "stdout",
     "output_type": "stream",
     "text": [
      "ADF Statistic: -7.772612810471023\n",
      "n_lags: 8.838605820712801e-12\n",
      "p-value: 8.838605820712801e-12\n",
      "Critial Values:\n",
      "   1%, -3.4865346059036564\n",
      "Critial Values:\n",
      "   5%, -2.8861509858476264\n",
      "Critial Values:\n",
      "   10%, -2.579896092790057\n"
     ]
    }
   ],
   "source": [
    "result = adfuller(Y_train_dif_1, autolag='AIC')\n",
    "print(f'ADF Statistic: {result[0]}')\n",
    "print(f'n_lags: {result[1]}')\n",
    "print(f'p-value: {result[1]}')\n",
    "for key, value in result[4].items():\n",
    "    print('Critial Values:')\n",
    "    print(f'   {key}, {value}')  "
   ]
  },
  {
   "cell_type": "code",
   "execution_count": 14,
   "metadata": {},
   "outputs": [
    {
     "data": {
      "image/png": "[encoded data removed]",
      "text/plain": [
       "<Figure size 432x288 with 1 Axes>"
      ]
     },
     "metadata": {
      "needs_background": "light"
     },
     "output_type": "display_data"
    }
   ],
   "source": [
    "acf = plot_acf(Y_train_dif_1)"
   ]
  },
  {
   "cell_type": "code",
   "execution_count": 15,
   "metadata": {},
   "outputs": [
    {
     "data": {
      "image/png": "[encoded data removed]",
      "text/plain": [
       "<Figure size 432x288 with 1 Axes>"
      ]
     },
     "metadata": {
      "needs_background": "light"
     },
     "output_type": "display_data"
    }
   ],
   "source": [
    "pacf = plot_pacf(Y_train_dif_1)"
   ]
  },
  {
   "cell_type": "code",
   "execution_count": 16,
   "metadata": {},
   "outputs": [
    {
     "name": "stderr",
     "output_type": "stream",
     "text": [
      "/opt/anaconda3/lib/python3.8/site-packages/statsmodels/tsa/arima_model.py:472: FutureWarning: \n",
      "statsmodels.tsa.arima_model.ARMA and statsmodels.tsa.arima_model.ARIMA have\n",
      "been deprecated in favor of statsmodels.tsa.arima.model.ARIMA (note the .\n",
      "between arima and model) and\n",
      "statsmodels.tsa.SARIMAX. These will be removed after the 0.12 release.\n",
      "\n",
      "statsmodels.tsa.arima.model.ARIMA makes use of the statespace framework and\n",
      "is both well tested and maintained.\n",
      "\n",
      "To silence this warning and continue using ARMA and ARIMA until they are\n",
      "removed, use:\n",
      "\n",
      "import warnings\n",
      "warnings.filterwarnings('ignore', 'statsmodels.tsa.arima_model.ARMA',\n",
      "                        FutureWarning)\n",
      "warnings.filterwarnings('ignore', 'statsmodels.tsa.arima_model.ARIMA',\n",
      "                        FutureWarning)\n",
      "\n",
      "  warnings.warn(ARIMA_DEPRECATION_WARN, FutureWarning)\n",
      "/opt/anaconda3/lib/python3.8/site-packages/statsmodels/tsa/arima_model.py:472: FutureWarning: \n",
      "statsmodels.tsa.arima_model.ARMA and statsmodels.tsa.arima_model.ARIMA have\n",
      "been deprecated in favor of statsmodels.tsa.arima.model.ARIMA (note the .\n",
      "between arima and model) and\n",
      "statsmodels.tsa.SARIMAX. These will be removed after the 0.12 release.\n",
      "\n",
      "statsmodels.tsa.arima.model.ARIMA makes use of the statespace framework and\n",
      "is both well tested and maintained.\n",
      "\n",
      "To silence this warning and continue using ARMA and ARIMA until they are\n",
      "removed, use:\n",
      "\n",
      "import warnings\n",
      "warnings.filterwarnings('ignore', 'statsmodels.tsa.arima_model.ARMA',\n",
      "                        FutureWarning)\n",
      "warnings.filterwarnings('ignore', 'statsmodels.tsa.arima_model.ARIMA',\n",
      "                        FutureWarning)\n",
      "\n",
      "  warnings.warn(ARIMA_DEPRECATION_WARN, FutureWarning)\n"
     ]
    }
   ],
   "source": [
    "arima = ARIMA(Y_train.values, order=(2,1,1))\n",
    "arima_model = arima.fit()"
   ]
  },
  {
   "cell_type": "code",
   "execution_count": 17,
   "metadata": {},
   "outputs": [
    {
     "data": {
      "text/html": [
       "<table class=\"simpletable\">\n",
       "<caption>ARIMA Model Results</caption>\n",
       "<tr>\n",
       "  <th>Dep. Variable:</th>        <td>D.y</td>       <th>  No. Observations:  </th>    <td>124</td>  \n",
       "</tr>\n",
       "<tr>\n",
       "  <th>Model:</th>          <td>ARIMA(2, 1, 1)</td>  <th>  Log Likelihood     </th> <td>-111.092</td>\n",
       "</tr>\n",
       "<tr>\n",
       "  <th>Method:</th>             <td>css-mle</td>     <th>  S.D. of innovations</th>   <td>0.585</td> \n",
       "</tr>\n",
       "<tr>\n",
       "  <th>Date:</th>          <td>Wed, 05 May 2021</td> <th>  AIC                </th>  <td>232.183</td>\n",
       "</tr>\n",
       "<tr>\n",
       "  <th>Time:</th>              <td>19:01:35</td>     <th>  BIC                </th>  <td>246.285</td>\n",
       "</tr>\n",
       "<tr>\n",
       "  <th>Sample:</th>                <td>1</td>        <th>  HQIC               </th>  <td>237.912</td>\n",
       "</tr>\n",
       "<tr>\n",
       "  <th></th>                       <td> </td>        <th>                     </th>     <td> </td>   \n",
       "</tr>\n",
       "</table>\n",
       "<table class=\"simpletable\">\n",
       "<tr>\n",
       "      <td></td>         <th>coef</th>     <th>std err</th>      <th>z</th>      <th>P>|z|</th>  <th>[0.025</th>    <th>0.975]</th>  \n",
       "</tr>\n",
       "<tr>\n",
       "  <th>const</th>     <td>    0.0010</td> <td>    0.004</td> <td>    0.270</td> <td> 0.787</td> <td>   -0.006</td> <td>    0.008</td>\n",
       "</tr>\n",
       "<tr>\n",
       "  <th>ar.L1.D.y</th> <td>    0.5734</td> <td>    0.090</td> <td>    6.388</td> <td> 0.000</td> <td>    0.397</td> <td>    0.749</td>\n",
       "</tr>\n",
       "<tr>\n",
       "  <th>ar.L2.D.y</th> <td>    0.0335</td> <td>    0.090</td> <td>    0.374</td> <td> 0.708</td> <td>   -0.142</td> <td>    0.209</td>\n",
       "</tr>\n",
       "<tr>\n",
       "  <th>ma.L1.D.y</th> <td>   -1.0000</td> <td>    0.028</td> <td>  -35.807</td> <td> 0.000</td> <td>   -1.055</td> <td>   -0.945</td>\n",
       "</tr>\n",
       "</table>\n",
       "<table class=\"simpletable\">\n",
       "<caption>Roots</caption>\n",
       "<tr>\n",
       "    <td></td>   <th>            Real</th>  <th>         Imaginary</th> <th>         Modulus</th>  <th>        Frequency</th>\n",
       "</tr>\n",
       "<tr>\n",
       "  <th>AR.1</th> <td>           1.5953</td> <td>          +0.0000j</td> <td>           1.5953</td> <td>           0.0000</td>\n",
       "</tr>\n",
       "<tr>\n",
       "  <th>AR.2</th> <td>         -18.7071</td> <td>          +0.0000j</td> <td>          18.7071</td> <td>           0.5000</td>\n",
       "</tr>\n",
       "<tr>\n",
       "  <th>MA.1</th> <td>           1.0000</td> <td>          +0.0000j</td> <td>           1.0000</td> <td>           0.0000</td>\n",
       "</tr>\n",
       "</table>"
      ],
      "text/plain": [
       "<class 'statsmodels.iolib.summary.Summary'>\n",
       "\"\"\"\n",
       "                             ARIMA Model Results                              \n",
       "==============================================================================\n",
       "Dep. Variable:                    D.y   No. Observations:                  124\n",
       "Model:                 ARIMA(2, 1, 1)   Log Likelihood                -111.092\n",
       "Method:                       css-mle   S.D. of innovations              0.585\n",
       "Date:                Wed, 05 May 2021   AIC                            232.183\n",
       "Time:                        19:01:35   BIC                            246.285\n",
       "Sample:                             1   HQIC                           237.912\n",
       "                                                                              \n",
       "==============================================================================\n",
       "                 coef    std err          z      P>|z|      [0.025      0.975]\n",
       "------------------------------------------------------------------------------\n",
       "const          0.0010      0.004      0.270      0.787      -0.006       0.008\n",
       "ar.L1.D.y      0.5734      0.090      6.388      0.000       0.397       0.749\n",
       "ar.L2.D.y      0.0335      0.090      0.374      0.708      -0.142       0.209\n",
       "ma.L1.D.y     -1.0000      0.028    -35.807      0.000      -1.055      -0.945\n",
       "                                    Roots                                    \n",
       "=============================================================================\n",
       "                  Real          Imaginary           Modulus         Frequency\n",
       "-----------------------------------------------------------------------------\n",
       "AR.1            1.5953           +0.0000j            1.5953            0.0000\n",
       "AR.2          -18.7071           +0.0000j           18.7071            0.5000\n",
       "MA.1            1.0000           +0.0000j            1.0000            0.0000\n",
       "-----------------------------------------------------------------------------\n",
       "\"\"\""
      ]
     },
     "execution_count": 17,
     "metadata": {},
     "output_type": "execute_result"
    }
   ],
   "source": [
    "arima_model.summary()"
   ]
  },
  {
   "cell_type": "code",
   "execution_count": 18,
   "metadata": {},
   "outputs": [
    {
     "data": {
      "text/plain": [
       "array([6.8521439 , 6.93568245, 6.96339402, 7.06709597, 9.14338456,\n",
       "       8.98185497, 9.07122197, 8.35243017, 7.2902873 , 7.44897172,\n",
       "       7.45612723, 7.31265687, 7.2986658 , 7.29320254, 7.20034538,\n",
       "       7.26705972, 8.21956167, 7.37059613, 7.3558291 , 7.3946299 ,\n",
       "       7.3873187 , 7.44808769, 7.32477899, 7.25292577, 7.24442719,\n",
       "       7.25985128, 6.88224216, 6.49070938, 6.32719812, 6.56231711,\n",
       "       7.20332423, 7.23288932, 7.36372515, 7.25791241, 7.1810462 ,\n",
       "       7.23267587, 7.26469652, 8.21838822, 7.45573857, 7.39023713,\n",
       "       7.25957867, 7.2914643 , 7.24075728, 7.44732866, 8.25815801,\n",
       "       7.36230097, 7.20096128, 7.30375512, 7.23854935, 7.22045516,\n",
       "       7.05614181, 7.30011406, 7.40134239, 7.30955922, 7.32632575,\n",
       "       7.15396323, 7.24135294, 7.28211936, 7.24852797, 7.10150293,\n",
       "       6.90122124, 5.93966178, 6.42298163, 6.64104345, 6.98928314,\n",
       "       7.06347946, 7.00223904, 7.1179148 , 7.07348269, 7.20958387,\n",
       "       7.29077033, 7.11204617, 6.76342842, 6.98581349, 7.17101409,\n",
       "       7.09307613, 7.12908401, 7.08282071, 7.16001803, 7.15268574,\n",
       "       7.13867474, 7.1026815 , 7.22678158, 7.09419206, 7.58634043,\n",
       "       7.70115167, 7.06487843, 7.07364789, 6.95194853, 8.07401071,\n",
       "       7.26959979, 7.39998461, 7.39892388, 7.60576465, 7.35380473,\n",
       "       7.38620413, 6.67654971, 7.36281228, 7.29092891, 8.30774439,\n",
       "       8.241737  , 8.38690488, 8.17338843, 7.44539598, 7.46591002,\n",
       "       7.385893  , 7.32092915, 7.27452818, 7.518858  , 7.43315192,\n",
       "       7.48297337, 7.46253143, 7.20672686, 7.18558319, 6.98139248,\n",
       "       7.02095414, 7.32793415, 7.54941425, 7.93241786, 7.91637932,\n",
       "       7.40003024, 7.48255851, 7.40673928, 7.23638305])"
      ]
     },
     "execution_count": 18,
     "metadata": {},
     "output_type": "execute_result"
    }
   ],
   "source": [
    "arima_preds = arima_model.predict(typ='levels')\n",
    "arima_preds"
   ]
  },
  {
   "cell_type": "code",
   "execution_count": 19,
   "metadata": {},
   "outputs": [],
   "source": [
    "arima_preds = pd.DataFrame(arima_preds[:20])\n",
    "arima_preds.index = Y_test.index\n",
    "arima_preds = np.exp(arima_preds)"
   ]
  },
  {
   "cell_type": "markdown",
   "metadata": {},
   "source": [
    "# XGBoost"
   ]
  },
  {
   "cell_type": "code",
   "execution_count": 20,
   "metadata": {},
   "outputs": [],
   "source": [
    "try_xgboost = XGBRegressor(learning_rate = 0.01,\n",
    "    eval_metric ='rmse',\n",
    "    n_estimators = 50000,\n",
    "    max_depth = 7,\n",
    "    subsample = 0.5,\n",
    "    colsample_bytree = 1,\n",
    "    gamma = 0.5\n",
    "    )"
   ]
  },
  {
   "cell_type": "code",
   "execution_count": 21,
   "metadata": {},
   "outputs": [
    {
     "name": "stdout",
     "output_type": "stream",
     "text": [
      "[0]\tvalidation_0-rmse:7.01845\n",
      "[100]\tvalidation_0-rmse:2.79601\n",
      "[200]\tvalidation_0-rmse:1.25627\n",
      "[300]\tvalidation_0-rmse:0.69287\n",
      "[400]\tvalidation_0-rmse:0.50299\n",
      "[500]\tvalidation_0-rmse:0.42645\n",
      "[600]\tvalidation_0-rmse:0.40958\n",
      "[700]\tvalidation_0-rmse:0.40181\n",
      "[800]\tvalidation_0-rmse:0.39712\n",
      "[900]\tvalidation_0-rmse:0.39739\n",
      "[1000]\tvalidation_0-rmse:0.39720\n",
      "[1100]\tvalidation_0-rmse:0.39427\n",
      "[1200]\tvalidation_0-rmse:0.39233\n",
      "[1300]\tvalidation_0-rmse:0.39250\n",
      "[1400]\tvalidation_0-rmse:0.39221\n",
      "[1500]\tvalidation_0-rmse:0.39555\n",
      "[1600]\tvalidation_0-rmse:0.39558\n",
      "[1700]\tvalidation_0-rmse:0.39806\n",
      "[1800]\tvalidation_0-rmse:0.39798\n",
      "[1812]\tvalidation_0-rmse:0.39791\n"
     ]
    },
    {
     "data": {
      "text/plain": [
       "XGBRegressor(base_score=0.5, booster='gbtree', colsample_bylevel=1,\n",
       "             colsample_bynode=1, colsample_bytree=1, eval_metric='rmse',\n",
       "             gamma=0.5, gpu_id=-1, importance_type='gain',\n",
       "             interaction_constraints='', learning_rate=0.01, max_delta_step=0,\n",
       "             max_depth=7, min_child_weight=1, missing=nan,\n",
       "             monotone_constraints='()', n_estimators=50000, n_jobs=4,\n",
       "             num_parallel_tree=1, random_state=0, reg_alpha=0, reg_lambda=1,\n",
       "             scale_pos_weight=1, subsample=0.5, tree_method='exact',\n",
       "             validate_parameters=1, verbosity=None)"
      ]
     },
     "execution_count": 21,
     "metadata": {},
     "output_type": "execute_result"
    }
   ],
   "source": [
    "try_xgboost.fit(X_train, Y_train, \n",
    "    eval_metric='rmse', \n",
    "    eval_set=[(X_test, Y_test)], \n",
    "    early_stopping_rounds=500, \n",
    "    verbose=100)"
   ]
  },
  {
   "cell_type": "code",
   "execution_count": 22,
   "metadata": {},
   "outputs": [
    {
     "data": {
      "text/plain": [
       "XGBRegressor(base_score=0.5, booster='gbtree', colsample_bylevel=1,\n",
       "             colsample_bynode=1, colsample_bytree=1, gamma=0.5, gpu_id=-1,\n",
       "             importance_type='gain', interaction_constraints='',\n",
       "             learning_rate=0.01, max_delta_step=0, max_depth=5,\n",
       "             min_child_weight=1, missing=nan, monotone_constraints='()',\n",
       "             n_estimators=1312, n_jobs=4, num_parallel_tree=1, random_state=0,\n",
       "             reg_alpha=0, reg_lambda=1, scale_pos_weight=1, subsample=0.5,\n",
       "             tree_method='exact', validate_parameters=1, verbosity=None)"
      ]
     },
     "execution_count": 22,
     "metadata": {},
     "output_type": "execute_result"
    }
   ],
   "source": [
    "best = (try_xgboost.get_booster().best_iteration)\n",
    "xgboost_model = XGBRegressor(\n",
    "    learning_rate = 0.01,\n",
    "    n_estimators = best,\n",
    "    max_depth = 5,\n",
    "    subsample = 0.5,\n",
    "    colsample_bytree = 1,\n",
    "    gamma = 0.5)\n",
    "xgboost_model.fit(X_train, Y_train)"
   ]
  },
  {
   "cell_type": "code",
   "execution_count": 23,
   "metadata": {},
   "outputs": [
    {
     "name": "stderr",
     "output_type": "stream",
     "text": [
      "/opt/anaconda3/lib/python3.8/site-packages/xgboost/data.py:112: UserWarning: Use subset (sliced data) of np.ndarray is not recommended because it will generate extra copies and increase memory consumption\n",
      "  warnings.warn(\n"
     ]
    },
    {
     "data": {
      "text/plain": [
       "array([1734.4995, 1820.519 , 1338.9918, 1743.5406, 1505.9464, 1650.5966,\n",
       "       1088.0934, 1633.8523, 1760.0378, 1548.973 , 1598.1838, 2142.9875,\n",
       "       2225.9258, 1909.6816, 1961.9583, 1954.5917, 2551.624 , 1993.8024,\n",
       "       2151.806 , 2608.8887], dtype=float32)"
      ]
     },
     "execution_count": 23,
     "metadata": {},
     "output_type": "execute_result"
    }
   ],
   "source": [
    "xgboost_preds = xgboost_model.predict(X_test)\n",
    "xgboost_preds = np.exp(xgboost_preds)\n",
    "xgboost_preds"
   ]
  },
  {
   "cell_type": "code",
   "execution_count": 24,
   "metadata": {},
   "outputs": [],
   "source": [
    "xgboost_preds = pd.DataFrame(xgboost_preds)\n",
    "xgboost_preds.index = Y_test.index"
   ]
  },
  {
   "cell_type": "code",
   "execution_count": 25,
   "metadata": {},
   "outputs": [
    {
     "data": {
      "text/html": [
       "<div>\n",
       "<style scoped>\n",
       "    .dataframe tbody tr th:only-of-type {\n",
       "        vertical-align: middle;\n",
       "    }\n",
       "\n",
       "    .dataframe tbody tr th {\n",
       "        vertical-align: top;\n",
       "    }\n",
       "\n",
       "    .dataframe thead th {\n",
       "        text-align: right;\n",
       "    }\n",
       "</style>\n",
       "<table border=\"1\" class=\"dataframe\">\n",
       "  <thead>\n",
       "    <tr style=\"text-align: right;\">\n",
       "      <th></th>\n",
       "      <th>0</th>\n",
       "    </tr>\n",
       "    <tr>\n",
       "      <th>Date</th>\n",
       "      <th></th>\n",
       "    </tr>\n",
       "  </thead>\n",
       "  <tbody>\n",
       "    <tr>\n",
       "      <th>2020-12-20</th>\n",
       "      <td>1734.499512</td>\n",
       "    </tr>\n",
       "    <tr>\n",
       "      <th>2020-12-27</th>\n",
       "      <td>1820.519043</td>\n",
       "    </tr>\n",
       "    <tr>\n",
       "      <th>2021-01-03</th>\n",
       "      <td>1338.991821</td>\n",
       "    </tr>\n",
       "    <tr>\n",
       "      <th>2021-01-10</th>\n",
       "      <td>1743.540649</td>\n",
       "    </tr>\n",
       "    <tr>\n",
       "      <th>2021-01-17</th>\n",
       "      <td>1505.946411</td>\n",
       "    </tr>\n",
       "    <tr>\n",
       "      <th>2021-01-24</th>\n",
       "      <td>1650.596558</td>\n",
       "    </tr>\n",
       "    <tr>\n",
       "      <th>2021-01-31</th>\n",
       "      <td>1088.093384</td>\n",
       "    </tr>\n",
       "    <tr>\n",
       "      <th>2021-02-07</th>\n",
       "      <td>1633.852295</td>\n",
       "    </tr>\n",
       "    <tr>\n",
       "      <th>2021-02-14</th>\n",
       "      <td>1760.037842</td>\n",
       "    </tr>\n",
       "    <tr>\n",
       "      <th>2021-02-21</th>\n",
       "      <td>1548.973022</td>\n",
       "    </tr>\n",
       "    <tr>\n",
       "      <th>2021-02-28</th>\n",
       "      <td>1598.183838</td>\n",
       "    </tr>\n",
       "    <tr>\n",
       "      <th>2021-03-07</th>\n",
       "      <td>2142.987549</td>\n",
       "    </tr>\n",
       "    <tr>\n",
       "      <th>2021-03-14</th>\n",
       "      <td>2225.925781</td>\n",
       "    </tr>\n",
       "    <tr>\n",
       "      <th>2021-03-21</th>\n",
       "      <td>1909.681641</td>\n",
       "    </tr>\n",
       "    <tr>\n",
       "      <th>2021-03-28</th>\n",
       "      <td>1961.958252</td>\n",
       "    </tr>\n",
       "    <tr>\n",
       "      <th>2021-04-04</th>\n",
       "      <td>1954.591675</td>\n",
       "    </tr>\n",
       "    <tr>\n",
       "      <th>2021-04-11</th>\n",
       "      <td>2551.624023</td>\n",
       "    </tr>\n",
       "    <tr>\n",
       "      <th>2021-04-18</th>\n",
       "      <td>1993.802368</td>\n",
       "    </tr>\n",
       "    <tr>\n",
       "      <th>2021-04-25</th>\n",
       "      <td>2151.805908</td>\n",
       "    </tr>\n",
       "    <tr>\n",
       "      <th>2021-05-02</th>\n",
       "      <td>2608.888672</td>\n",
       "    </tr>\n",
       "  </tbody>\n",
       "</table>\n",
       "</div>"
      ],
      "text/plain": [
       "                      0\n",
       "Date                   \n",
       "2020-12-20  1734.499512\n",
       "2020-12-27  1820.519043\n",
       "2021-01-03  1338.991821\n",
       "2021-01-10  1743.540649\n",
       "2021-01-17  1505.946411\n",
       "2021-01-24  1650.596558\n",
       "2021-01-31  1088.093384\n",
       "2021-02-07  1633.852295\n",
       "2021-02-14  1760.037842\n",
       "2021-02-21  1548.973022\n",
       "2021-02-28  1598.183838\n",
       "2021-03-07  2142.987549\n",
       "2021-03-14  2225.925781\n",
       "2021-03-21  1909.681641\n",
       "2021-03-28  1961.958252\n",
       "2021-04-04  1954.591675\n",
       "2021-04-11  2551.624023\n",
       "2021-04-18  1993.802368\n",
       "2021-04-25  2151.805908\n",
       "2021-05-02  2608.888672"
      ]
     },
     "execution_count": 25,
     "metadata": {},
     "output_type": "execute_result"
    }
   ],
   "source": [
    "xgboost_preds"
   ]
  },
  {
   "cell_type": "code",
   "execution_count": 26,
   "metadata": {},
   "outputs": [],
   "source": [
    "Y_train = np.exp(Y_train)\n",
    "Y_test = np.exp(Y_test)"
   ]
  },
  {
   "cell_type": "markdown",
   "metadata": {},
   "source": [
    "# Plot for the predictions"
   ]
  },
  {
   "cell_type": "code",
   "execution_count": 27,
   "metadata": {},
   "outputs": [
    {
     "data": {
      "image/png": "[encoded data removed]",
      "text/plain": [
       "<Figure size 1440x360 with 1 Axes>"
      ]
     },
     "metadata": {
      "needs_background": "light"
     },
     "output_type": "display_data"
    }
   ],
   "source": [
    "plt.figure(figsize=(20,5))\n",
    "plt.title('Predictions \\n for orders per week \\n (meal_id:2290, center_id:43) ',fontdict={'fontsize':20})\n",
    "plt.xlabel(\"Week\", size=15)\n",
    "plt.ylabel(\"Orders \", size=15)\n",
    "plt.plot(Y_train, label='training_data')\n",
    "plt.plot(Y_test, label='Validation_test')\n",
    "plt.plot(xgboost_preds, color='cyan', label='xgboost_preds')\n",
    "plt.plot(arima_preds, color='red', label='ARIMA_preds')\n",
    "plt.legend(loc='best')\n",
    "sns.despine()\n",
    "plt.savefig('../figs/prediction.pdf')"
   ]
  },
  {
   "cell_type": "code",
   "execution_count": 28,
   "metadata": {},
   "outputs": [
    {
     "data": {
      "text/html": [
       "<div>\n",
       "<style scoped>\n",
       "    .dataframe tbody tr th:only-of-type {\n",
       "        vertical-align: middle;\n",
       "    }\n",
       "\n",
       "    .dataframe tbody tr th {\n",
       "        vertical-align: top;\n",
       "    }\n",
       "\n",
       "    .dataframe thead th {\n",
       "        text-align: right;\n",
       "    }\n",
       "</style>\n",
       "<table border=\"1\" class=\"dataframe\">\n",
       "  <thead>\n",
       "    <tr style=\"text-align: right;\">\n",
       "      <th></th>\n",
       "      <th>0</th>\n",
       "    </tr>\n",
       "    <tr>\n",
       "      <th>Date</th>\n",
       "      <th></th>\n",
       "    </tr>\n",
       "  </thead>\n",
       "  <tbody>\n",
       "    <tr>\n",
       "      <th>2020-12-20</th>\n",
       "      <td>1734.499512</td>\n",
       "    </tr>\n",
       "    <tr>\n",
       "      <th>2020-12-27</th>\n",
       "      <td>1820.519043</td>\n",
       "    </tr>\n",
       "    <tr>\n",
       "      <th>2021-01-03</th>\n",
       "      <td>1338.991821</td>\n",
       "    </tr>\n",
       "    <tr>\n",
       "      <th>2021-01-10</th>\n",
       "      <td>1743.540649</td>\n",
       "    </tr>\n",
       "    <tr>\n",
       "      <th>2021-01-17</th>\n",
       "      <td>1505.946411</td>\n",
       "    </tr>\n",
       "    <tr>\n",
       "      <th>2021-01-24</th>\n",
       "      <td>1650.596558</td>\n",
       "    </tr>\n",
       "    <tr>\n",
       "      <th>2021-01-31</th>\n",
       "      <td>1088.093384</td>\n",
       "    </tr>\n",
       "    <tr>\n",
       "      <th>2021-02-07</th>\n",
       "      <td>1633.852295</td>\n",
       "    </tr>\n",
       "    <tr>\n",
       "      <th>2021-02-14</th>\n",
       "      <td>1760.037842</td>\n",
       "    </tr>\n",
       "    <tr>\n",
       "      <th>2021-02-21</th>\n",
       "      <td>1548.973022</td>\n",
       "    </tr>\n",
       "    <tr>\n",
       "      <th>2021-02-28</th>\n",
       "      <td>1598.183838</td>\n",
       "    </tr>\n",
       "    <tr>\n",
       "      <th>2021-03-07</th>\n",
       "      <td>2142.987549</td>\n",
       "    </tr>\n",
       "    <tr>\n",
       "      <th>2021-03-14</th>\n",
       "      <td>2225.925781</td>\n",
       "    </tr>\n",
       "    <tr>\n",
       "      <th>2021-03-21</th>\n",
       "      <td>1909.681641</td>\n",
       "    </tr>\n",
       "    <tr>\n",
       "      <th>2021-03-28</th>\n",
       "      <td>1961.958252</td>\n",
       "    </tr>\n",
       "    <tr>\n",
       "      <th>2021-04-04</th>\n",
       "      <td>1954.591675</td>\n",
       "    </tr>\n",
       "    <tr>\n",
       "      <th>2021-04-11</th>\n",
       "      <td>2551.624023</td>\n",
       "    </tr>\n",
       "    <tr>\n",
       "      <th>2021-04-18</th>\n",
       "      <td>1993.802368</td>\n",
       "    </tr>\n",
       "    <tr>\n",
       "      <th>2021-04-25</th>\n",
       "      <td>2151.805908</td>\n",
       "    </tr>\n",
       "    <tr>\n",
       "      <th>2021-05-02</th>\n",
       "      <td>2608.888672</td>\n",
       "    </tr>\n",
       "  </tbody>\n",
       "</table>\n",
       "</div>"
      ],
      "text/plain": [
       "                      0\n",
       "Date                   \n",
       "2020-12-20  1734.499512\n",
       "2020-12-27  1820.519043\n",
       "2021-01-03  1338.991821\n",
       "2021-01-10  1743.540649\n",
       "2021-01-17  1505.946411\n",
       "2021-01-24  1650.596558\n",
       "2021-01-31  1088.093384\n",
       "2021-02-07  1633.852295\n",
       "2021-02-14  1760.037842\n",
       "2021-02-21  1548.973022\n",
       "2021-02-28  1598.183838\n",
       "2021-03-07  2142.987549\n",
       "2021-03-14  2225.925781\n",
       "2021-03-21  1909.681641\n",
       "2021-03-28  1961.958252\n",
       "2021-04-04  1954.591675\n",
       "2021-04-11  2551.624023\n",
       "2021-04-18  1993.802368\n",
       "2021-04-25  2151.805908\n",
       "2021-05-02  2608.888672"
      ]
     },
     "execution_count": 28,
     "metadata": {},
     "output_type": "execute_result"
    }
   ],
   "source": [
    "xgboost_preds"
   ]
  },
  {
   "cell_type": "code",
   "execution_count": 29,
   "metadata": {},
   "outputs": [
    {
     "data": {
      "text/html": [
       "<div>\n",
       "<style scoped>\n",
       "    .dataframe tbody tr th:only-of-type {\n",
       "        vertical-align: middle;\n",
       "    }\n",
       "\n",
       "    .dataframe tbody tr th {\n",
       "        vertical-align: top;\n",
       "    }\n",
       "\n",
       "    .dataframe thead th {\n",
       "        text-align: right;\n",
       "    }\n",
       "</style>\n",
       "<table border=\"1\" class=\"dataframe\">\n",
       "  <thead>\n",
       "    <tr style=\"text-align: right;\">\n",
       "      <th></th>\n",
       "      <th>0</th>\n",
       "    </tr>\n",
       "    <tr>\n",
       "      <th>Date</th>\n",
       "      <th></th>\n",
       "    </tr>\n",
       "  </thead>\n",
       "  <tbody>\n",
       "    <tr>\n",
       "      <th>2020-12-20</th>\n",
       "      <td>945.906662</td>\n",
       "    </tr>\n",
       "    <tr>\n",
       "      <th>2020-12-27</th>\n",
       "      <td>1028.320785</td>\n",
       "    </tr>\n",
       "    <tr>\n",
       "      <th>2021-01-03</th>\n",
       "      <td>1057.215690</td>\n",
       "    </tr>\n",
       "    <tr>\n",
       "      <th>2021-01-10</th>\n",
       "      <td>1172.737421</td>\n",
       "    </tr>\n",
       "    <tr>\n",
       "      <th>2021-01-17</th>\n",
       "      <td>9352.365255</td>\n",
       "    </tr>\n",
       "  </tbody>\n",
       "</table>\n",
       "</div>"
      ],
      "text/plain": [
       "                      0\n",
       "Date                   \n",
       "2020-12-20   945.906662\n",
       "2020-12-27  1028.320785\n",
       "2021-01-03  1057.215690\n",
       "2021-01-10  1172.737421\n",
       "2021-01-17  9352.365255"
      ]
     },
     "execution_count": 29,
     "metadata": {},
     "output_type": "execute_result"
    }
   ],
   "source": [
    "arima_preds.head()"
   ]
  },
  {
   "cell_type": "code",
   "execution_count": null,
   "metadata": {},
   "outputs": [],
   "source": []
  },
  {
   "cell_type": "code",
   "execution_count": null,
   "metadata": {},
   "outputs": [],
   "source": []
  },
  {
   "cell_type": "code",
   "execution_count": null,
   "metadata": {},
   "outputs": [],
   "source": []
  }
 ],
 "metadata": {
  "kernelspec": {
   "display_name": "Python 3",
   "language": "python",
   "name": "python3"
  },
  "language_info": {
   "codemirror_mode": {
    "name": "ipython",
    "version": 3
   },
   "file_extension": ".py",
   "mimetype": "text/x-python",
   "name": "python",
   "nbconvert_exporter": "python",
   "pygments_lexer": "ipython3",
   "version": "3.8.5"
  }
 },
 "nbformat": 4,
 "nbformat_minor": 4
}
